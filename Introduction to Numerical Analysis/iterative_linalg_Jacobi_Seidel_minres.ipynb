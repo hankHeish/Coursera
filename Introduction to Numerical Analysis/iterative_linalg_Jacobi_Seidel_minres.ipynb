{
 "cells": [
  {
   "cell_type": "markdown",
   "metadata": {},
   "source": [
    "# Simple iteration for systems of linear equations"
   ]
  },
  {
   "cell_type": "markdown",
   "metadata": {},
   "source": [
    "First, generate a random diagonally dominant matrix, for testing."
   ]
  },
  {
   "cell_type": "code",
   "execution_count": 1,
   "metadata": {},
   "outputs": [],
   "source": [
    "import numpy as np\n",
    "rndm = np.random.RandomState(1234)\n",
    "\n",
    "n = 10\n",
    "A = rndm.uniform(size=(n, n)) + np.diagflat([15]*n)\n",
    "b = rndm.uniform(size=n)"
   ]
  },
  {
   "cell_type": "markdown",
   "metadata": {},
   "source": [
    "# I.  Jacobi iteration\n",
    "\n",
    "Given\n",
    "\n",
    "$$\n",
    "A x = b\n",
    "$$\n",
    "\n",
    "separate the diagonal part $D$,\n",
    "\n",
    "$$ A = D + (A - D) $$\n",
    "\n",
    "and write\n",
    "\n",
    "$$\n",
    "x = D^{-1} (D - A) x + D^{-1} b\\;.\n",
    "$$\n",
    "\n",
    "Then iterate\n",
    "\n",
    "$$\n",
    "x_{n + 1} = B x_{n} + c\\;,\n",
    "$$\n",
    "\n",
    "where \n",
    "\n",
    "$$\n",
    "B = D^{-1} (A - D) \\qquad \\text{and} \\qquad c = D^{-1} b\n",
    "$$\n"
   ]
  },
  {
   "cell_type": "markdown",
   "metadata": {},
   "source": [
    "Let's construct the matrix and the r.h.s. for the Jacobi iteration"
   ]
  },
  {
   "cell_type": "code",
   "execution_count": 2,
   "metadata": {},
   "outputs": [],
   "source": [
    "diag_1d = np.diag(A)\n",
    "\n",
    "B = -A.copy()\n",
    "np.fill_diagonal(B, 0)\n",
    "\n",
    "D = np.diag(diag_1d)\n",
    "invD = np.diag(1./diag_1d)\n",
    "BB = invD @ B \n",
    "c = invD @ b"
   ]
  },
  {
   "cell_type": "code",
   "execution_count": 3,
   "metadata": {},
   "outputs": [],
   "source": [
    "# sanity checks\n",
    "from numpy.testing import assert_allclose\n",
    "\n",
    "assert_allclose(-B + D, A)\n",
    "\n",
    "\n",
    "# xx is a \"ground truth\" solution, compute it using a direct method\n",
    "xx = np.linalg.solve(A, b)\n",
    "\n",
    "np.testing.assert_allclose(A@xx, b)\n",
    "np.testing.assert_allclose(D@xx, B@xx + b)\n",
    "np.testing.assert_allclose(xx, BB@xx + c)"
   ]
  },
  {
   "cell_type": "markdown",
   "metadata": {},
   "source": [
    "Check that $\\| B\\| \\leqslant 1$:"
   ]
  },
  {
   "cell_type": "code",
   "execution_count": 4,
   "metadata": {},
   "outputs": [
    {
     "data": {
      "text/plain": [
       "0.3643616198301534"
      ]
     },
     "execution_count": 4,
     "metadata": {},
     "output_type": "execute_result"
    }
   ],
   "source": [
    "np.linalg.norm(BB)"
   ]
  },
  {
   "cell_type": "markdown",
   "metadata": {},
   "source": [
    "### Do the Jacobi iteration"
   ]
  },
  {
   "cell_type": "code",
   "execution_count": 5,
   "metadata": {},
   "outputs": [],
   "source": [
    "n_iter = 50\n",
    "\n",
    "x0 = np.ones(n)\n",
    "x = x0\n",
    "for _ in range(n_iter):\n",
    "    x = BB @ x + c"
   ]
  },
  {
   "cell_type": "code",
   "execution_count": 6,
   "metadata": {},
   "outputs": [
    {
     "data": {
      "text/plain": [
       "array([ 1.11022302e-16,  1.11022302e-16,  0.00000000e+00, -1.11022302e-16,\n",
       "        0.00000000e+00,  0.00000000e+00, -2.08166817e-17, -1.11022302e-16,\n",
       "        0.00000000e+00,  2.22044605e-16])"
      ]
     },
     "execution_count": 6,
     "metadata": {},
     "output_type": "execute_result"
    }
   ],
   "source": [
    "# Check the result:\n",
    "\n",
    "A @ x - b"
   ]
  },
  {
   "cell_type": "markdown",
   "metadata": {},
   "source": [
    "### Task I.1\n",
    "\n",
    "Collect the proof-of-concept above into a single function implementing the Jacobi iteration. This function should receive the r.h.s. matrix $A$, the l.h.s. vector `b`, and the number of iterations to perform.\n",
    "\n",
    "\n",
    "The matrix $A$ in the illustration above is strongly diagonally dominant, by construction. \n",
    "What happens if the diagonal matrix elements of $A$ are made smaller? Check the convergence of the Jacobi iteration, and check the value of the norm of $B$.\n",
    "\n",
    "(20% of the total grade)\n"
   ]
  },
  {
   "cell_type": "code",
   "execution_count": 7,
   "metadata": {},
   "outputs": [],
   "source": [
    "# ... ENTER YOUR CODE HERE ...\n",
    "def Jacobi_iteration(A, b, eps=1e-12, maxiter=50): \n",
    "    diag_1d = np.diag(A)\n",
    "    \n",
    "    B = -A.copy()\n",
    "    np.fill_diagonal(B, 0)\n",
    "    invD = np.diag(1.0 / diag_1d)\n",
    "    \n",
    "    BB = invD @ B \n",
    "    c = invD @ b \n",
    "    \n",
    "    pre_x = np.ones(n)\n",
    "    for i in range(maxiter): \n",
    "        x = BB @ pre_x + c \n",
    "        \n",
    "        if np.linalg.norm(pre_x - x) < eps: \n",
    "            break\n",
    "        \n",
    "        pre_x = x\n",
    "    \n",
    "    return x "
   ]
  },
  {
   "cell_type": "code",
   "execution_count": 8,
   "metadata": {},
   "outputs": [],
   "source": [
    "x = Jacobi_iteration(A, b)\n",
    "\n",
    "np.testing.assert_allclose(A @ xx, b)\n",
    "np.testing.assert_allclose(xx, x)"
   ]
  },
  {
   "cell_type": "code",
   "execution_count": 9,
   "metadata": {},
   "outputs": [],
   "source": [
    "def calc_norm(A): \n",
    "    diag_1d = np.diag(A)\n",
    "    \n",
    "    B = -A.copy()\n",
    "    np.fill_diagonal(B, 0)\n",
    "    invD = np.diag(1.0 / diag_1d)\n",
    "    \n",
    "    BB = invD @ B\n",
    "    \n",
    "    return np.linalg.norm(BB)"
   ]
  },
  {
   "cell_type": "code",
   "execution_count": 10,
   "metadata": {},
   "outputs": [
    {
     "name": "stdout",
     "output_type": "stream",
     "text": [
      "15.191519450378893 \t 0.3643616198301534 \t 8.016629190714786e-14\n",
      "14.191519450378893 \t 0.38959181027260875 \t 1.460552645800977e-13\n",
      "13.191519450378893 \t 0.4185783948614869 \t 1.1983977267600476e-13\n",
      "12.191519450378893 \t 0.4522284025473819 \t 1.5550189398045518e-13\n",
      "11.191519450378893 \t 0.4917667095178099 \t 1.3761742991573544e-13\n",
      "10.191519450378893 \t 0.5388887887486234 \t 2.670299522243857e-13\n",
      "9.191519450378893 \t 0.5960110344093967 \t 3.1111096720488395e-13\n",
      "8.191519450378893 \t 0.6667001660296401 \t 2.7708305389622986e-13\n",
      "7.191519450378893 \t 0.7564517359241751 \t 1.4990529280955456e-10\n",
      "6.191519450378893 \t 0.8742017351588475 \t 2.016159609310716e-07\n",
      "5.191519450378893 \t 1.0355299928250667 \t 0.0009191717405677627\n",
      "4.191519450378893 \t 1.2702850939751231 \t 23.481633679539154\n",
      "3.191519450378893 \t 1.6439565658213244 \t 8260242.793633643\n",
      "2.191519450378893 \t 2.3348091117608556 \t 261149802433164.78\n",
      "1.1915194503788928 \t 4.080768845910033 \t 1.3716691464130676e+26\n",
      "0.19151945037889284 \t 30.71532760306489 \t 1.7398635828491286e+61\n",
      "-0.8084805496211072 \t 25.668433387443834 \t 7.881439377877501e+55\n",
      "-1.8084805496211072 \t 3.8385533278362765 \t 1.1479079818548211e+25\n",
      "-2.808480549621107 \t 2.253356177200183 \t 52372118749887.14\n",
      "-3.808480549621107 \t 1.603185944905758 \t 1627830.5633059123\n",
      "-4.808480549621107 \t 1.24581575811634 \t 46.23368617546269\n",
      "-5.808480549621107 \t 1.019215329207032 \t 0.0008730836032703573\n",
      "-6.808480549621107 \t 0.8625478003698426 \t 1.6544090734293178e-07\n",
      "-7.808480549621107 \t 0.7477110355740726 \t 1.2057561743807246e-10\n",
      "-8.808480549621107 \t 0.6599017255790174 \t 7.573419789179045e-13\n"
     ]
    }
   ],
   "source": [
    "#record = [] \n",
    "for k in range(25): \n",
    "    A1 = A + np.diagflat([-k] * n)\n",
    "    B_norm = calc_norm(A1)\n",
    "    x = Jacobi_iteration(A1, b)\n",
    "    \n",
    "    xx = np.linalg.solve(A1, b)\n",
    "    dist = np.linalg.norm(x - xx)\n",
    "    # record.append(dist)\n",
    "    \n",
    "    print(A1[0, 0], '\\t', B_norm, '\\t', dist)"
   ]
  },
  {
   "cell_type": "markdown",
   "metadata": {},
   "source": [
    "# II. Seidel's iteration."
   ]
  },
  {
   "cell_type": "markdown",
   "metadata": {},
   "source": [
    "##### Task II.1\n",
    "\n",
    "Implement the Seidel's iteration. \n",
    "\n",
    "Test it on a random matrix. Study the convergence of iterations, relate to the norm of the iteration matrix.\n",
    "\n",
    "(30% of the total grade)"
   ]
  },
  {
   "cell_type": "code",
   "execution_count": 11,
   "metadata": {},
   "outputs": [],
   "source": [
    "from copy import copy "
   ]
  },
  {
   "cell_type": "code",
   "execution_count": 12,
   "metadata": {},
   "outputs": [],
   "source": [
    "# ... ENTER YOUR CODE HERE ...\n",
    "def Seidel_iteration(A, b, eps=1e-15, maxiter=100): \n",
    "    m, n = A.shape \n",
    "    x, x0 = np.zeros(n), np.ones(n)\n",
    "    \n",
    "    for i in range(maxiter): \n",
    "        for j in range(n): \n",
    "            temp = np.matmul(A[j, :], x0) - A[j, j] * x0[j]\n",
    "            x[j] = (b[j] - temp) / A[j, j]\n",
    "            \n",
    "        if np.linalg.norm(x - x0, ord=2) < eps: \n",
    "            break\n",
    "        \n",
    "        x0 = copy(x)\n",
    "        \n",
    "    return x "
   ]
  },
  {
   "cell_type": "code",
   "execution_count": 13,
   "metadata": {},
   "outputs": [],
   "source": [
    "n = 10\n",
    "A = rndm.uniform(size=(n, n)) + np.diagflat([15]*n)\n",
    "b = rndm.uniform(size=n)\n",
    "\n",
    "xx = np.linalg.solve(A, b)"
   ]
  },
  {
   "cell_type": "code",
   "execution_count": 14,
   "metadata": {},
   "outputs": [],
   "source": [
    "x = Seidel_iteration(A, b)"
   ]
  },
  {
   "cell_type": "code",
   "execution_count": 15,
   "metadata": {},
   "outputs": [],
   "source": [
    "np.testing.assert_allclose(x, xx)\n",
    "np.testing.assert_allclose(A @ x, b)"
   ]
  },
  {
   "cell_type": "code",
   "execution_count": 16,
   "metadata": {},
   "outputs": [
    {
     "name": "stdout",
     "output_type": "stream",
     "text": [
      "15.325707414425347 \t 0.3679761958864619 \t 1.717113384210645e-16\n",
      "14.325707414425347 \t 0.39315162237575607 \t 1.253240166917531e-16\n",
      "13.325707414425347 \t 0.42202631543251723 \t 1.6647019655304507e-16\n",
      "12.325707414425347 \t 0.45548069473587693 \t 1.2558487442844619e-16\n",
      "11.325707414425347 \t 0.4946988077730063 \t 1.8006062009096791e-16\n",
      "10.325707414425347 \t 0.541311664415742 \t 2.678280467609959e-16\n",
      "9.325707414425347 \t 0.5976303078076515 \t 2.790101973140761e-16\n",
      "8.325707414425347 \t 0.6670418762840838 \t 3.091949950422155e-16\n",
      "7.325707414425347 \t 0.7547193781175311 \t 3.3448078079445316e-16\n",
      "6.325707414425347 \t 0.8689797529637481 \t 2.0340476058074165e-15\n",
      "5.325707414425347 \t 1.0241070526789309 \t 2.739548834490962e-08\n",
      "4.325707414425347 \t 1.2468971279649803 \t 9.407045842618816\n",
      "3.325707414425347 \t 1.5943014624467677 \t 416594156613.1983\n",
      "2.325707414425347 \t 2.213124726732211 \t 6.15502814590454e+25\n",
      "1.325707414425347 \t 3.6414476395758366 \t 1.3266076300191454e+47\n",
      "0.3257074144253469 \t 11.669681525331226 \t 8.425742388089331e+93\n",
      "-0.6742925855746531 \t 26.44540813733386 \t 6.532570305441678e+124\n",
      "-1.674292585574653 \t 4.339078999189703 \t 1.734490158836407e+54\n",
      "-2.674292585574653 \t 2.451867146694581 \t 8.09504635808992e+29\n",
      "-3.674292585574653 \t 1.7144483666294856 \t 248951580365443.97\n",
      "-4.674292585574653 \t 1.319171203925413 \t 1816.102694534546\n",
      "-5.674292585574653 \t 1.0723516999937073 \t 3.996555401479718e-06\n",
      "-6.674292585574653 \t 0.9034654812078322 \t 1.1341883230717286e-13\n",
      "-7.674292585574653 \t 0.7805955142225485 \t 1.1620938331323894e-15\n",
      "-8.674292585574653 \t 0.6871738979454427 \t 1.2095986849988648e-15\n"
     ]
    }
   ],
   "source": [
    "for k in range(25): \n",
    "    A1 = A + np.diagflat([-k] * n)\n",
    "    B_norm = calc_norm(A1)\n",
    "    x = Seidel_iteration(A1, b)\n",
    "    \n",
    "    xx = np.linalg.solve(A1, b)\n",
    "    dist = np.linalg.norm(x - xx)\n",
    "    # record.append(dist)\n",
    "    \n",
    "    print(A1[0, 0], '\\t', B_norm, '\\t', dist)"
   ]
  },
  {
   "cell_type": "markdown",
   "metadata": {},
   "source": [
    "# III. Minimum residual scheme"
   ]
  },
  {
   "cell_type": "markdown",
   "metadata": {},
   "source": [
    "### Task III.1\n",
    "\n",
    "Implement the $\\textit{minimum residual}$ scheme: an explicit non-stationary method, where at each step you select the iteration parameter $\\tau_n$ to minimize the residual $\\mathbf{r}_{n+1}$ given $\\mathbf{r}_n$. Test it on a random matrix, study the convergence to the solution, in terms of the norm of the residual and the deviation from the ground truth solution (which you can obtain using a direct method). Study how the iteration parameter $\\tau_n$ changes as iterations progress.\n",
    "\n",
    "(50% of the grade)"
   ]
  },
  {
   "cell_type": "code",
   "execution_count": 17,
   "metadata": {},
   "outputs": [],
   "source": [
    "import matplotlib.pyplot as plt \n",
    "%matplotlib inline"
   ]
  },
  {
   "cell_type": "code",
   "execution_count": 18,
   "metadata": {},
   "outputs": [],
   "source": [
    "# ... ENTER YOUR CODE HERE ...\n",
    "def minimum_iteration(A, b, show_plot=True, eps=1e-12, maxiter=100):\n",
    "    m, n = A.shape \n",
    "    x0 = np.ones(n)\n",
    "    tau_series = []\n",
    "    \n",
    "    for i in range(maxiter): \n",
    "        r = np.matmul(A, x0) - b\n",
    "        temp = np.matmul(A, r)\n",
    "        tau = np.matmul(r, temp) / np.linalg.norm(temp, ord=2)**2\n",
    "        tau_series.append(tau)\n",
    "        x = x0 - tau * r\n",
    "        \n",
    "        if np.linalg.norm(x - x0) < eps: \n",
    "            break\n",
    "        \n",
    "        x0 = x\n",
    "    \n",
    "    if show_plot: \n",
    "        plt.plot(np.arange(len(tau_series)), np.array(tau_series), 'o--')\n",
    "        plt.xlabel('iteration times')\n",
    "        plt.ylabel('tau')\n",
    "    \n",
    "    return x"
   ]
  },
  {
   "cell_type": "code",
   "execution_count": 19,
   "metadata": {},
   "outputs": [],
   "source": [
    "n = 10\n",
    "A = rndm.uniform(size=(n, n)) + np.diagflat([15]*n)\n",
    "b = rndm.uniform(size=n)\n",
    "\n",
    "xx = np.linalg.solve(A, b)"
   ]
  },
  {
   "cell_type": "code",
   "execution_count": 20,
   "metadata": {},
   "outputs": [
    {
     "data": {
      "image/png": "[encoded data removed]",
      "text/plain": [
       "<matplotlib.figure.Figure at 0x10c2b9588>"
      ]
     },
     "metadata": {},
     "output_type": "display_data"
    }
   ],
   "source": [
    "x = minimum_iteration(A, b)"
   ]
  },
  {
   "cell_type": "code",
   "execution_count": 21,
   "metadata": {},
   "outputs": [],
   "source": [
    "np.testing.assert_allclose(x, xx)\n",
    "np.testing.assert_allclose(A @ x, b)"
   ]
  },
  {
   "cell_type": "code",
   "execution_count": 22,
   "metadata": {},
   "outputs": [
    {
     "name": "stdout",
     "output_type": "stream",
     "text": [
      "15.373423707353538 \t 0.33688318691473734 \t 8.14563061388198e-14\n",
      "14.373423707353538 \t 0.35991861870451014 \t 3.4551341132243973e-14\n",
      "13.373423707353538 \t 0.38633818171402223 \t 1.0020257702217684e-13\n",
      "12.373423707353538 \t 0.41694750327373403 \t 6.195482662263055e-14\n",
      "11.373423707353538 \t 0.45283028862683194 \t 5.4332700689448806e-14\n",
      "10.373423707353538 \t 0.49547981843737987 \t 5.956477210470438e-14\n",
      "9.373423707353538 \t 0.5470130066640051 \t 9.59724131234205e-14\n",
      "8.373423707353538 \t 0.6105347157974735 \t 2.0291423092250298e-13\n",
      "7.373423707353538 \t 0.6907921005349461 \t 1.9476380518101547e-13\n",
      "6.373423707353538 \t 0.7954308152405096 \t 3.645063994142921e-13\n",
      "5.373423707353538 \t 0.9376202762223229 \t 2.4198735564806606e-13\n",
      "4.373423707353538 \t 1.1421938096062156 \t 4.1814781402732593e-13\n",
      "3.3734237073535382 \t 1.462477199852301 \t 8.966224656129397e-13\n",
      "2.3734237073535382 \t 2.039321827238908 \t 1.8594419406457233e-12\n",
      "1.3734237073535382 \t 3.4341680304660547 \t 7.561876083359e-07\n",
      "0.37342370735353825 \t 47.4832412493988 \t 3.477210332754392\n",
      "-0.6265762926464618 \t 157.51851078688847 \t 2.58354728810275\n",
      "-1.6265762926464618 \t 4.12344541403942 \t 0.3301321040314304\n",
      "-2.6265762926464618 \t 2.28314861696893 \t 0.1625360212495214\n",
      "-3.6265762926464618 \t 1.5862814047527567 \t 0.988380169296321\n",
      "-4.626576292646462 \t 1.2169396705171964 \t 135.1176557192957\n",
      "-5.626576292646462 \t 0.9876066891172056 \t 2.3300291820657245e-12\n",
      "-6.626576292646462 \t 0.8311993043232186 \t 1.2975844254800868e-12\n",
      "-7.626576292646462 \t 0.7176485081595215 \t 5.571141648157312e-13\n",
      "-8.626576292646462 \t 0.6314386374752283 \t 2.5357075094023867e-13\n"
     ]
    }
   ],
   "source": [
    "for k in range(25): \n",
    "    A1 = A + np.diagflat([-k] * n)\n",
    "    B_norm = calc_norm(A1)\n",
    "    x = minimum_iteration(A1, b, False)\n",
    "    \n",
    "    xx = np.linalg.solve(A1, b)\n",
    "    dist = np.linalg.norm(x - xx)\n",
    "    # record.append(dist)\n",
    "    \n",
    "    print(A1[0, 0], '\\t', B_norm, '\\t', dist)"
   ]
  }
 ],
 "metadata": {
  "kernelspec": {
   "display_name": "Python 3",
   "language": "python",
   "name": "python3"
  },
  "language_info": {
   "codemirror_mode": {
    "name": "ipython",
    "version": 3
   },
   "file_extension": ".py",
   "mimetype": "text/x-python",
   "name": "python",
   "nbconvert_exporter": "python",
   "pygments_lexer": "ipython3",
   "version": "3.6.2"
  }
 },
 "nbformat": 4,
 "nbformat_minor": 2
}
