{
 "cells": [
  {
   "cell_type": "markdown",
   "metadata": {},
   "source": [
    "# I. Linear least squares approximation"
   ]
  },
  {
   "cell_type": "markdown",
   "metadata": {},
   "source": [
    "Consider a function $y = f(x)$ which is defined by a set of values $y_0, y_1, \\cdots, y_n$ at points $x_0, x_1, \\cdots, x_n$."
   ]
  },
  {
   "cell_type": "code",
   "execution_count": 2,
   "metadata": {},
   "outputs": [],
   "source": [
    "import numpy as np \n",
    "import matplotlib.pyplot as plt "
   ]
  },
  {
   "cell_type": "code",
   "execution_count": 3,
   "metadata": {},
   "outputs": [],
   "source": [
    "x = [-1, -0.7, -0.43, -0.14, -0.14, 0.43, 0.71, 1, 1.29, 1.57, 1.86, 2.14, 2.43, 2.71, 3]\n",
    "y = [-2.25, -0.77, 0.21, 0.44, 0.64, 0.03, -0.22, -0.84, -1.2, -1.03, -0.37, 0.61, 2.67, 5.04, 8.90]"
   ]
  },
  {
   "cell_type": "markdown",
   "metadata": {},
   "source": [
    "### I.I. Find a best fit polynomial\n",
    "\n",
    "$$\n",
    "P_m(x) = a_0 + a_1 x + \\cdots + a_m x^m\n",
    "$$\n",
    "\n",
    "using the linear least squares approach. To this end\n",
    "\n",
    "1. implement a function which constructs the design matrix using $1, x, \\cdots, x^m$ as the basis functions.\n",
    "\n",
    "2. construct explicitly the normal system of equations of the linear least squares problem at fixed $m$.\n",
    "\n",
    "3. Solve the normal equations to find the coefficients of $P_m(x)$ for $m = 0, 1, 2, \\dots$. For the linear algebra problem, you can either use library functions (`numpy.linalg.solve`) or your LU factorization code from week 1.\n",
    "\n",
    "(20% of the total grade)"
   ]
  },
  {
   "cell_type": "code",
   "execution_count": 4,
   "metadata": {},
   "outputs": [],
   "source": [
    "# ... ENTER YOUR CODE HERE\n",
    "def polynomial_coefficient(x, m): \n",
    "    x = np.array(x)\n",
    "    A = [] \n",
    "    \n",
    "    for k in range(m + 1): \n",
    "        A.append(x**k)\n",
    "        \n",
    "    return np.array(A).T"
   ]
  },
  {
   "cell_type": "code",
   "execution_count": 5,
   "metadata": {},
   "outputs": [],
   "source": [
    "def normal_equation(A, b):\n",
    "    A_ = np.dot(A.T, A)\n",
    "    b_ = np.dot(A.T, b)\n",
    "    \n",
    "    coef = np.linalg.solve(A_, b_)\n",
    "    \n",
    "    return coef"
   ]
  },
  {
   "cell_type": "code",
   "execution_count": 6,
   "metadata": {},
   "outputs": [],
   "source": [
    "coefs = [] \n",
    "\n",
    "for m in range(10): \n",
    "    c = normal_equation(polynomial_coefficient(x, m), y)\n",
    "    coefs.append(c)"
   ]
  },
  {
   "cell_type": "code",
   "execution_count": 7,
   "metadata": {},
   "outputs": [
    {
     "data": {
      "text/plain": [
       "[array([0.79066667]),\n",
       " array([-0.6479869 ,  1.46502399]),\n",
       " array([-1.25772058, -0.65313865,  1.0667959 ]),\n",
       " array([ 0.49483598, -0.26983377, -2.01973166,  1.01540301]),\n",
       " array([ 0.51184244, -0.33857023, -2.05689291,  1.08931365, -0.01872316]),\n",
       " array([ 0.53158296, -0.24431123, -2.15174437,  0.99954653,  0.07265921,\n",
       "        -0.01835276]),\n",
       " array([ 0.58335489, -0.21341539, -2.47667914,  1.08743364,  0.3156542 ,\n",
       "        -0.17478186,  0.02574425]),\n",
       " array([ 0.5744677 , -0.13006497, -2.3829579 ,  0.80842609,  0.3196533 ,\n",
       "         0.0116892 , -0.06899496,  0.01366621]),\n",
       " array([ 0.53749246, -0.37095536, -2.06051933,  1.53912235, -0.54617266,\n",
       "        -0.22834563,  0.51017192, -0.21721566,  0.02885626]),\n",
       " array([ 0.50918939, -0.43758283, -1.67901143,  1.61523578, -1.43465948,\n",
       "         0.20209009,  0.91271625, -0.64210814,  0.16431079, -0.01477536])]"
      ]
     },
     "execution_count": 7,
     "metadata": {},
     "output_type": "execute_result"
    }
   ],
   "source": [
    "coefs"
   ]
  },
  {
   "cell_type": "markdown",
   "metadata": {},
   "source": [
    "### I.II \n",
    "\n",
    "To find the optimal value of m, use the following criterion: take $m=0, 1, 2, \\dots$, for each value of $m$ compute \n",
    "\n",
    "$$\n",
    "\\sigma_m^2 = \\frac{1}{n - m} \\sum_{k=0}^n \\left( P_m(x_k) - y_k \\right)^2\n",
    "$$\n",
    "\n",
    "And take the value of $m$, at which $\\sigma_m$ stabilizes or starts increasing.\n",
    "\n",
    "(20% of the total grade)"
   ]
  },
  {
   "cell_type": "code",
   "execution_count": 8,
   "metadata": {},
   "outputs": [
    {
     "data": {
      "text/plain": [
       "[<matplotlib.lines.Line2D at 0x10c378470>]"
      ]
     },
     "execution_count": 8,
     "metadata": {},
     "output_type": "execute_result"
    },
    {
     "data": {
      "image/png": "[encoded data removed]",
      "text/plain": [
       "<matplotlib.figure.Figure at 0x10c2e8fd0>"
      ]
     },
     "metadata": {},
     "output_type": "display_data"
    }
   ],
   "source": [
    "# ... ENTER YOUR CODE HERE ...\n",
    "n = len(coefs)\n",
    "sigma = [] \n",
    "\n",
    "for i in range(n): \n",
    "    A = np.array(coefs[i])\n",
    "    X = polynomial_coefficient(x, i)\n",
    "    \n",
    "    res = 1 / (n - 1) * np.linalg.norm(np.dot(X, A.T) - y)**2\n",
    "    sigma.append(res)\n",
    "\n",
    "plt.plot(np.arange(n), np.array(sigma), 'o--')"
   ]
  },
  {
   "cell_type": "markdown",
   "metadata": {},
   "source": [
    "Plot your polynomials $P_m(x)$ on one plot, together with the datapoints. Visually compare best-fit polynomials of different degrees. Is the visual comparison consistent with the optimal value of $m$?"
   ]
  },
  {
   "cell_type": "code",
   "execution_count": 12,
   "metadata": {},
   "outputs": [
    {
     "data": {
      "text/plain": [
       "<matplotlib.legend.Legend at 0x10c7aea20>"
      ]
     },
     "execution_count": 12,
     "metadata": {},
     "output_type": "execute_result"
    },
    {
     "data": {
      "image/png": "[encoded data removed]",
      "text/plain": [
       "<matplotlib.figure.Figure at 0x10c3c8b00>"
      ]
     },
     "metadata": {},
     "output_type": "display_data"
    }
   ],
   "source": [
    "# ... ENTER YOUR CODE HERE\n",
    "plt.scatter(x, y)\n",
    "\n",
    "for i in range(1, len(coefs)): \n",
    "    func = np.poly1d(coefs[i][::-1])\n",
    "    y_hat = func(x)\n",
    "    \n",
    "    slabel = 'deg' + str(i)\n",
    "    plt.plot(x, y_hat, label=slabel, alpha=0.6)\n",
    "\n",
    "plt.legend()"
   ]
  },
  {
   "cell_type": "markdown",
   "metadata": {},
   "source": [
    "### I.III. Linear least-squares using the QR factorization.\n",
    "\n",
    "For the optimal value of $m$ from the previous part, solve the LLS problem using the QR factorization, withou ever forming the normal equations explicitly. For linear algebra, you can use standard library functions (look up `numpy.linalg.solve`, `numpy.linalg.qr` etc) or your code from previous weeks.\n",
    "\n",
    "Compare the results with the results of solving the normal system of equations.\n",
    "\n",
    "(20% of the grade)"
   ]
  },
  {
   "cell_type": "code",
   "execution_count": 13,
   "metadata": {},
   "outputs": [],
   "source": [
    "# ... ENTER YOUR CODE HERE ...\n",
    "def QR_fractorization(A, b): \n",
    "    q, r = np.linalg.qr(A)\n",
    "    f = np.dot(q.T, b)\n",
    "    x = np.linalg.solve(r, f)\n",
    "    \n",
    "    return x"
   ]
  },
  {
   "cell_type": "code",
   "execution_count": 14,
   "metadata": {},
   "outputs": [],
   "source": [
    "coefs_QR = [] \n",
    "\n",
    "for m in range(10): \n",
    "    c = QR_fractorization(polynomial_coefficient(x, m), y)\n",
    "    coefs_QR.append(c)"
   ]
  },
  {
   "cell_type": "code",
   "execution_count": 15,
   "metadata": {},
   "outputs": [
    {
     "name": "stdout",
     "output_type": "stream",
     "text": [
      "[1.11022302e-16]\n",
      "[0.00000000e+00 2.22044605e-16]\n",
      "[ 2.22044605e-16 -3.66373598e-15  1.33226763e-15]\n",
      "[ 2.63677968e-14  2.10942375e-15 -3.59712260e-14  1.17683641e-14]\n",
      "[ 5.99520433e-14 -1.38555833e-13 -1.12798659e-13  1.62092562e-13\n",
      " -3.78724829e-14]\n",
      "[-5.27355937e-14 -6.08263440e-13  3.92574862e-13  6.05071548e-13\n",
      " -5.04332687e-13  9.45077350e-14]\n",
      "[ 3.66706665e-13 -2.11469731e-13 -2.12541096e-12  1.04538600e-12\n",
      "  1.41214818e-12 -1.05140896e-12  1.81781673e-13]\n",
      "[-9.29589739e-13  3.19391735e-12  7.40874029e-12 -1.30196964e-11\n",
      " -2.28744801e-12  9.77593874e-12 -4.44264070e-12  6.05786254e-13]\n",
      "[ 7.94352362e-11  5.28153687e-10 -6.89091895e-10 -1.61360902e-09\n",
      "  1.87901728e-09  5.42426132e-10 -1.26895727e-09  5.03222602e-10\n",
      " -6.27044389e-11]\n",
      "[ 1.85278415e-09  6.13430934e-09 -2.35161257e-08 -1.18733814e-08\n",
      "  5.66534268e-08 -2.06724547e-08 -2.77428445e-08  2.54370588e-08\n",
      " -7.67457425e-09  8.07451665e-10]\n"
     ]
    }
   ],
   "source": [
    "for i in range(len(coefs)): \n",
    "    print(coefs[i] - coefs_QR[i])"
   ]
  },
  {
   "cell_type": "markdown",
   "metadata": {},
   "source": [
    "# II. Lagrange interpolation"
   ]
  },
  {
   "cell_type": "markdown",
   "metadata": {},
   "source": [
    "### II.1 \n",
    "\n",
    "Consider the function, $f(x) = x^2 \\cos{x}$. On the interval $x\\in [\\pi/2, \\pi]$, interpolate the function using the Lagrange interpolating polynomial of degree $m$ with $m=1, 2, 3, 4, 5$. Use the uniform mesh. Plot the resulting interpolants together with $f(x)$.\n",
    "\n",
    "(20% of the total grade)"
   ]
  },
  {
   "cell_type": "code",
   "execution_count": 21,
   "metadata": {},
   "outputs": [],
   "source": [
    "# ... ENTER YOUR CODE HERE ...\n",
    "def lagrange_polynomial(x, x_grid, k): \n",
    "    coef = 1 \n",
    "    for i in range(len(x_grid)): \n",
    "        if i != k: \n",
    "            coef *= ((x - x_grid[i]) / (x_grid[k] - x_grid[i]))\n",
    "            \n",
    "    return coef"
   ]
  },
  {
   "cell_type": "code",
   "execution_count": 22,
   "metadata": {},
   "outputs": [],
   "source": [
    "def lagrange_interpolation(x, x_grid, y_grid): \n",
    "    m = len(x_grid)\n",
    "    poly = 0\n",
    "    \n",
    "    for i in range(m):\n",
    "        poly += y_grid[i] * lagrange_polynomial(x, x_grid, i)\n",
    "        \n",
    "    return poly "
   ]
  },
  {
   "cell_type": "code",
   "execution_count": 23,
   "metadata": {},
   "outputs": [
    {
     "data": {
      "text/plain": [
       "<matplotlib.legend.Legend at 0x10caa60b8>"
      ]
     },
     "execution_count": 23,
     "metadata": {},
     "output_type": "execute_result"
    },
    {
     "data": {
      "image/png": "[encoded data removed]",
      "text/plain": [
       "<matplotlib.figure.Figure at 0x10c295898>"
      ]
     },
     "metadata": {},
     "output_type": "display_data"
    }
   ],
   "source": [
    "f = lambda x: x**2 * np.cos(x)\n",
    "x = np.linspace(np.pi / 2, np.pi, 50)\n",
    "\n",
    "plt.scatter(x, f(x))\n",
    "\n",
    "for m in range(1, 6): \n",
    "    x_grid = np.linspace(np.pi / 2, np.pi, m + 1)\n",
    "    y_hat = lagrange_interpolation(x, x_grid, f(x_grid))\n",
    "    \n",
    "    plt.plot(x, y_hat, label='deg' + str(m))\n",
    "    \n",
    "plt.legend()"
   ]
  },
  {
   "cell_type": "markdown",
   "metadata": {},
   "source": [
    "### II.2. \n",
    "\n",
    "Repeat the previous task using the Chebyshev nodes. Compare the quality of interpolation on a uniform mesh and Chebyshev nodes for $m=3$.\n",
    "\n",
    "(20% of the total grade)"
   ]
  },
  {
   "cell_type": "code",
   "execution_count": 24,
   "metadata": {},
   "outputs": [],
   "source": [
    "# ... ENTER YOUR CODE HERE ...\n",
    "def chebyshv_nodes(a, b, m): \n",
    "    m += 1\n",
    "    k = np.array(range(m))\n",
    "    x = np.cos((2 * k + 1) / (2 * m) * np.pi)\n",
    "    \n",
    "    return 0.5 * (a + b) + 0.5 * (b - a) * x"
   ]
  },
  {
   "cell_type": "code",
   "execution_count": 25,
   "metadata": {},
   "outputs": [
    {
     "name": "stdout",
     "output_type": "stream",
     "text": [
      "[3.08180778 2.65675336 2.05563563 1.6305812 ]\n"
     ]
    },
    {
     "data": {
      "text/plain": [
       "<matplotlib.legend.Legend at 0x10c92bc88>"
      ]
     },
     "execution_count": 25,
     "metadata": {},
     "output_type": "execute_result"
    },
    {
     "data": {
      "image/png": "[encoded data removed]",
      "text/plain": [
       "<matplotlib.figure.Figure at 0x10d78f9b0>"
      ]
     },
     "metadata": {},
     "output_type": "display_data"
    }
   ],
   "source": [
    "x_cheb = chebyshv_nodes(np.pi / 2, np.pi, 3)\n",
    "print(x_cheb)\n",
    "\n",
    "y_hat = lagrange_interpolation(x, x_cheb, f(x_cheb))\n",
    "\n",
    "plt.plot(x, f(x), 'o', alpha=0.3, label='Data')\n",
    "plt.plot(x, y_hat, c='orange', label='Chebyshv')\n",
    "plt.legend()"
   ]
  },
  {
   "cell_type": "code",
   "execution_count": null,
   "metadata": {},
   "outputs": [],
   "source": []
  }
 ],
 "metadata": {
  "kernelspec": {
   "display_name": "Python 3",
   "language": "python",
   "name": "python3"
  },
  "language_info": {
   "codemirror_mode": {
    "name": "ipython",
    "version": 3
   },
   "file_extension": ".py",
   "mimetype": "text/x-python",
   "name": "python",
   "nbconvert_exporter": "python",
   "pygments_lexer": "ipython3",
   "version": "3.6.2"
  }
 },
 "nbformat": 4,
 "nbformat_minor": 2
}
